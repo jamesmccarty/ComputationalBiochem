{
 "cells": [
  {
   "cell_type": "code",
   "execution_count": 1,
   "metadata": {
    "scrolled": true
   },
   "outputs": [],
   "source": [
    "import numpy as np\n",
    "import math\n",
    "import MDAnalysis\n",
    "import nglview as nv"
   ]
  },
  {
   "cell_type": "markdown",
   "metadata": {},
   "source": [
    "Load pdb structure file 1axc.pdb for human DNA polymerase into MDAnalysis. "
   ]
  },
  {
   "cell_type": "code",
   "execution_count": 2,
   "metadata": {},
   "outputs": [],
   "source": [
    "u = MDAnalysis.Universe('../data/1axc.pdb')\n",
    "protein = u.select_atoms(\"protein\") "
   ]
  },
  {
   "cell_type": "markdown",
   "metadata": {},
   "source": [
    "We can view the structure using nglview widgets. Notice that the structure contains both alpha helix and beta sheet secondary structure."
   ]
  },
  {
   "cell_type": "code",
   "execution_count": 3,
   "metadata": {},
   "outputs": [
    {
     "data": {
      "application/vnd.jupyter.widget-view+json": {
       "model_id": "57f60c43f2c3414fad2c4481456afe6e",
       "version_major": 2,
       "version_minor": 0
      },
      "text/plain": [
       "A Jupyter Widget"
      ]
     },
     "metadata": {},
     "output_type": "display_data"
    }
   ],
   "source": [
    "import ipywidgets\n",
    "v = nv.show_mdanalysis(protein)\n",
    "v.clear_representations()\n",
    "v.add_representation('cartoon')\n",
    "v.add_representation('licorice', selection='not hydrogen')\n",
    "v"
   ]
  },
  {
   "cell_type": "markdown",
   "metadata": {},
   "source": [
    "We can compute the Ramachandran plot using MDAnalysis and display the plot using matplotlib in python"
   ]
  },
  {
   "cell_type": "code",
   "execution_count": 6,
   "metadata": {},
   "outputs": [],
   "source": [
    "from MDAnalysis.analysis.dihedrals import Ramachandran\n",
    "R = Ramachandran(protein).run()"
   ]
  },
  {
   "cell_type": "code",
   "execution_count": 7,
   "metadata": {},
   "outputs": [
    {
     "data": {
      "text/plain": [
       "<matplotlib.axes._subplots.AxesSubplot at 0xb1d4ee310>"
      ]
     },
     "execution_count": 7,
     "metadata": {},
     "output_type": "execute_result"
    },
    {
     "data": {
      "image/png": "[encoded data removed]",
      "text/plain": [
       "<Figure size 288x288 with 1 Axes>"
      ]
     },
     "metadata": {
      "needs_background": "light"
     },
     "output_type": "display_data"
    }
   ],
   "source": [
    "import matplotlib.pyplot as plt\n",
    "fig, ax = plt.subplots(figsize=plt.figaspect(1))\n",
    "R.plot(ax=ax, color='k', marker='s')"
   ]
  },
  {
   "cell_type": "markdown",
   "metadata": {},
   "source": [
    "Let's now look at a particular region of interest from residues 10-20. We can compute the phi and psi angles as follows"
   ]
  },
  {
   "cell_type": "code",
   "execution_count": 8,
   "metadata": {},
   "outputs": [
    {
     "name": "stdout",
     "output_type": "stream",
     "text": [
      "phi angles:  [[ -46.11310503  -73.52457445  -64.67038433  -59.07386406  -60.86471558\n",
      "   -73.11855494  -72.61312093  -79.42212327 -104.91596453  -36.13782751]]\n",
      "psi angles:  [[-48.01572182 -30.629881   -54.43666111 -39.24427906 -42.63735266\n",
      "  -34.0537926  -23.59171725 -21.49787754 -48.03991432 -36.57440757]]\n"
     ]
    }
   ],
   "source": [
    "# selection of atomgroups\n",
    "phi_atoms = [res.phi_selection() for res in u.residues[10:20]]\n",
    "psi_atoms = [res.psi_selection() for res in u.residues[10:20]]\n",
    "from MDAnalysis.analysis.dihedrals import Dihedral\n",
    "phi = Dihedral(phi_atoms).run()\n",
    "psi = Dihedral(psi_atoms).run()\n",
    "print 'phi angles: ',phi.angles\n",
    "print 'psi angles: ',psi.angles"
   ]
  },
  {
   "cell_type": "markdown",
   "metadata": {},
   "source": [
    "Based on the phi and psi angles what do you think is the secondary structure of this region?"
   ]
  },
  {
   "cell_type": "markdown",
   "metadata": {},
   "source": [
    "Let's see where these angles lie on a Ramachandran plot"
   ]
  },
  {
   "cell_type": "code",
   "execution_count": 9,
   "metadata": {},
   "outputs": [],
   "source": [
    "protein_regionA = u.residues[10:20]"
   ]
  },
  {
   "cell_type": "code",
   "execution_count": 10,
   "metadata": {},
   "outputs": [
    {
     "data": {
      "text/plain": [
       "<matplotlib.axes._subplots.AxesSubplot at 0xb1d636610>"
      ]
     },
     "execution_count": 10,
     "metadata": {},
     "output_type": "execute_result"
    },
    {
     "data": {
      "image/png": "[encoded data removed]",
      "text/plain": [
       "<Figure size 288x288 with 1 Axes>"
      ]
     },
     "metadata": {
      "needs_background": "light"
     },
     "output_type": "display_data"
    }
   ],
   "source": [
    "R_regionA = Ramachandran(protein_regionA).run()\n",
    "fig, ax = plt.subplots(figsize=plt.figaspect(1))\n",
    "R_regionA.plot(ax=ax, color='k', marker='s')"
   ]
  },
  {
   "cell_type": "markdown",
   "metadata": {},
   "source": [
    "Finally, let's display this region. We see clearly the secondary structure for this region is a right-handed alpha helix."
   ]
  },
  {
   "cell_type": "code",
   "execution_count": 11,
   "metadata": {
    "scrolled": true
   },
   "outputs": [
    {
     "data": {
      "application/vnd.jupyter.widget-view+json": {
       "model_id": "b61322068b1c4f18ac9f819758386123",
       "version_major": 2,
       "version_minor": 0
      },
      "text/plain": [
       "A Jupyter Widget"
      ]
     },
     "metadata": {},
     "output_type": "display_data"
    }
   ],
   "source": [
    "v_regionA = nv.show_mdanalysis(protein_regionA)\n",
    "v_regionA"
   ]
  }
 ],
 "metadata": {
  "kernelspec": {
   "display_name": "Python 2",
   "language": "python",
   "name": "python2"
  },
  "language_info": {
   "codemirror_mode": {
    "name": "ipython",
    "version": 2
   },
   "file_extension": ".py",
   "mimetype": "text/x-python",
   "name": "python",
   "nbconvert_exporter": "python",
   "pygments_lexer": "ipython2",
   "version": "2.7.16"
  }
 },
 "nbformat": 4,
 "nbformat_minor": 2
}
