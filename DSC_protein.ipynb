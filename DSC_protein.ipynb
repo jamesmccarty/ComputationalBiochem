{
  "nbformat": 4,
  "nbformat_minor": 0,
  "metadata": {
    "colab": {
      "name": "DSC_protein.ipynb",
      "provenance": [],
      "collapsed_sections": [],
      "authorship_tag": "ABX9TyOsx/vXCaSruGsBnxgoc9dG",
      "include_colab_link": true
    },
    "kernelspec": {
      "name": "python3",
      "display_name": "Python 3"
    },
    "language_info": {
      "name": "python"
    }
  },
  "cells": [
    {
      "cell_type": "markdown",
      "metadata": {
        "id": "view-in-github",
        "colab_type": "text"
      },
      "source": [
        "<a href=\"https://colab.research.google.com/github/jamesmccarty/ComputationalBiochem/blob/master/DSC_protein.ipynb\" target=\"_parent\"><img src=\"https://colab.research.google.com/assets/colab-badge.svg\" alt=\"Open In Colab\"/></a>"
      ]
    },
    {
      "cell_type": "markdown",
      "metadata": {
        "id": "itqidlCSM4pu"
      },
      "source": [
        "In this jupyter notebook we will analyze some protein DSC data.  "
      ]
    },
    {
      "cell_type": "markdown",
      "metadata": {
        "id": "PEwOM7GsNGS2"
      },
      "source": [
        "First we need to import some libraries\n",
        "\n"
      ]
    },
    {
      "cell_type": "code",
      "metadata": {
        "id": "Eyd_vz1iNJex"
      },
      "source": [
        "import pandas as pd \n",
        "import matplotlib.pyplot as plt \n",
        "import numpy as np"
      ],
      "execution_count": 31,
      "outputs": []
    },
    {
      "cell_type": "markdown",
      "metadata": {
        "id": "qEvfmhgINRJC"
      },
      "source": [
        "Now lets look at some data. First we load the dataset using the read_excel function from the pandas module which will take the path of the excel file as an input. "
      ]
    },
    {
      "cell_type": "code",
      "metadata": {
        "colab": {
          "base_uri": "https://localhost:8080/"
        },
        "id": "LsaKS8wLNdr1",
        "outputId": "a5632db6-a9ba-46d0-8f04-6edcf39ebb74"
      },
      "source": [
        "url = 'https://raw.githubusercontent.com/jamesmccarty/ComputationalBiochem/master/data/DSC_data_S11_Lysozyme.csv'\n",
        "var = pd.read_csv(url)\n",
        "print(var)"
      ],
      "execution_count": 32,
      "outputs": [
        {
          "output_type": "stream",
          "name": "stdout",
          "text": [
            "     T [K]  Cp  [kcal/mol/K]  baseline\n",
            "0   293.00            0.0094    0.0094\n",
            "1   296.00            0.0989    0.0989\n",
            "2   298.80            0.1116    0.0017\n",
            "3   301.50            0.1811    0.1000\n",
            "4   304.00            0.2135    0.1000\n",
            "5   307.00            0.2829    0.1400\n",
            "6   309.60            0.2790    0.2000\n",
            "7   312.14            0.4500    0.1640\n",
            "8   315.00            0.5641    0.2700\n",
            "9   317.60            1.1460    0.3000\n",
            "10  320.00            2.1683    0.3300\n",
            "11  323.00            4.3980    0.5500\n",
            "12  325.50            7.5000    0.7700\n",
            "13  328.46           10.9800    1.2000\n",
            "14  331.00            8.8900    1.6000\n",
            "15  333.60            5.1900    1.6700\n",
            "16  336.40            3.1335    1.7700\n",
            "17  339.00            2.2139    1.7700\n",
            "18  342.00            1.9534    1.7700\n",
            "19  344.30            1.8398    1.7700\n",
            "20  347.18            1.7622    1.7700\n",
            "21  350.00            1.7586    1.7700\n"
          ]
        }
      ]
    },
    {
      "cell_type": "markdown",
      "metadata": {
        "id": "aai2tqBLbnOA"
      },
      "source": [
        "In the data set we have a column for the temperature, the heat capacity, and the extrapolated baseline. Let's separate these columns into separate variables:"
      ]
    },
    {
      "cell_type": "code",
      "metadata": {
        "id": "UTOYZhHRb3n3"
      },
      "source": [
        "temperature = list(var['T [K]'])\n",
        "Cp = list(var['Cp  [kcal/mol/K]'])\n",
        "baseline = list(var['baseline'])"
      ],
      "execution_count": 55,
      "outputs": []
    },
    {
      "cell_type": "markdown",
      "metadata": {
        "id": "1C576upNh3bt"
      },
      "source": [
        "For convenience, lets first do a cubic spline interpolation of the data:"
      ]
    },
    {
      "cell_type": "code",
      "metadata": {
        "id": "K6tKRY-Xh82x"
      },
      "source": [
        "from scipy.interpolate import CubicSpline\n",
        "\n",
        "Cp_fit = CubicSpline(temperature, Cp)\n",
        "baseline_fit = CubicSpline(temperature,baseline)\n",
        "xs = np.arange(300,360,0.5)"
      ],
      "execution_count": 57,
      "outputs": []
    },
    {
      "cell_type": "markdown",
      "metadata": {
        "id": "w5Q8B6decK8l"
      },
      "source": [
        "Now we can make a scatter plot to display the data:"
      ]
    },
    {
      "cell_type": "code",
      "metadata": {
        "colab": {
          "base_uri": "https://localhost:8080/",
          "height": 606
        },
        "id": "aiSAofldcOIJ",
        "outputId": "b6f39959-f608-42dc-a1f1-55c10a201759"
      },
      "source": [
        "fig = plt.figure(figsize=(10,10))\n",
        "ax = fig.add_subplot()\n",
        "\n",
        "# set major xticks every 2 and minor xticks every 0.5\n",
        "yticks_major = np.arange(0,11,2)\n",
        "yticks_minor = np.arange(0,11,0.5)\n",
        "\n",
        "#set major yticks every 10 and minor xticks every 2\n",
        "xticks_major = np.arange(290,360,10)\n",
        "xticks_minor = np.arange(290,360,2)\n",
        "\n",
        "ax.set_xticks(xticks_major)\n",
        "ax.set_xticks(xticks_minor, minor=True)\n",
        "ax.set_yticks(yticks_major)\n",
        "ax.set_yticks(yticks_minor, minor=True)\n",
        "\n",
        "ax.scatter(temperature,Cp)\n",
        "ax.scatter(temperature,baseline)\n",
        "ax.plot(xs,Cp_fit(xs),'-')\n",
        "ax.plot(xs,baseline_fit(xs),'--')\n",
        "ax.fill_between(xs, Cp_fit(xs), baseline_fit(xs), color = 'lightgray', alpha=0.3)\n",
        "ax.grid(which='both')\n",
        "ax.grid(which='minor', alpha=0.2)\n",
        "ax.grid(which='major', alpha=0.5)\n",
        "ax.set_xlabel(\"Temperature [K]\")\n",
        "ax.set_ylabel(r'$C_p$ kcal mol$^{-1}$ K$^{-1}$')\n",
        "plt.show()\n"
      ],
      "execution_count": 91,
      "outputs": [
        {
          "output_type": "display_data",
          "data": {
            "image/png": "[encoded data removed]",
            "text/plain": [
              "<Figure size 720x720 with 1 Axes>"
            ]
          },
          "metadata": {
            "needs_background": "light"
          }
        }
      ]
    },
    {
      "cell_type": "markdown",
      "metadata": {
        "id": "U1Ddud6tg4Wv"
      },
      "source": [
        "**Question 1** Use the grid to estimate the value of $\\Delta C_p$ "
      ]
    },
    {
      "cell_type": "markdown",
      "metadata": {
        "id": "se_RuMAAhZke"
      },
      "source": [
        "**Question 2** What is the melting temperature of the protein?"
      ]
    },
    {
      "cell_type": "markdown",
      "metadata": {
        "id": "4-jDZjT5hnAu"
      },
      "source": [
        "**Question 3** Use the grid to estimate the value of $\\Delta H$ of unfolding. "
      ]
    },
    {
      "cell_type": "markdown",
      "metadata": {
        "id": "IZutLq6MwIiN"
      },
      "source": [
        "Now to check, we can numerically integrate the area under the curve. Here we use the trapezoid rule: $\\int_a^b f(x) dx \\approx \\sum_{k=1}^N \\frac{f(x_{k-1})+f(x_{k})}{2}\\Delta x$"
      ]
    },
    {
      "cell_type": "code",
      "metadata": {
        "colab": {
          "base_uri": "https://localhost:8080/"
        },
        "id": "hgZlDrAtwSfb",
        "outputId": "b10bc405-d0c1-40b7-e47c-0a38b318c265"
      },
      "source": [
        "# Trapezoid rule:\n",
        "b = 350 # endpoint \n",
        "a = 300 # startpoint\n",
        "\n",
        "delta_x = 0.5         # spacing of x points\n",
        "N_points = int((b-a)/delta_x)   # number of points \n",
        "\n",
        "integral = 0.0 \n",
        "# now perform the sum \n",
        "for k in range(1,N_points):\n",
        "  x1 = a+(k-1)*delta_x\n",
        "  x2 = a+k*delta_x \n",
        "  f1 = Cp_fit(x1) - baseline_fit(x1)  \n",
        "  f2 = Cp_fit(x2) - baseline_fit(x2)\n",
        "  integral += 0.5*(f1+f2)*delta_x   # trapezoid rule \n",
        "\n",
        "print(\"The value of the integral is\",integral)\n"
      ],
      "execution_count": 98,
      "outputs": [
        {
          "output_type": "stream",
          "name": "stdout",
          "text": [
            "The value of the integral is 99.51043985681703\n"
          ]
        }
      ]
    },
    {
      "cell_type": "markdown",
      "metadata": {
        "id": "vDsccN6MCpES"
      },
      "source": [
        "How does the value of the integral change if you change the endpoints, a and b. "
      ]
    }
  ]
}